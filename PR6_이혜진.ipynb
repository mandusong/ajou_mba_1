{
 "cells": [
  {
   "cell_type": "markdown",
   "id": "a25eaff2-29c3-423d-b191-ef7e6fe32339",
   "metadata": {},
   "source": [
    "# PR6 자료구조 이혜진"
   ]
  },
  {
   "cell_type": "code",
   "execution_count": 5,
   "id": "83f66a9b-1f18-418f-afa6-cafffb10cd31",
   "metadata": {},
   "outputs": [
    {
     "name": "stdout",
     "output_type": "stream",
     "text": [
      "[1, 2, 3, 4, 5, 10, 20]\n",
      "[1, 2, 3, 4, 5, 10]\n",
      "[1, 2, 3, 4, 5]\n",
      "[2, 3, 4, 5]\n",
      "[3, 4, 5]\n"
     ]
    }
   ],
   "source": [
    "a=[1,2,3,4,5,]\n",
    "a.append(10)\n",
    "a.append(20)\n",
    "print(a)\n",
    "a.pop() # 스택: 최근에 더한 것을 먼저 제거\n",
    "print(a)\n",
    "a.pop()\n",
    "print(a)\n",
    "a.pop(0) #큐: 처음 데이터부터 먼제 제거\n",
    "print(a)\n",
    "a.pop(0)\n",
    "print(a)"
   ]
  },
  {
   "cell_type": "code",
   "execution_count": 4,
   "id": "2f38cfa9-19d7-4472-8f1d-45d417683097",
   "metadata": {},
   "outputs": [
    {
     "ename": "NameError",
     "evalue": "name 'a' is not defined",
     "output_type": "error",
     "traceback": [
      "\u001b[0;31m---------------------------------------------------------------------------\u001b[0m",
      "\u001b[0;31mNameError\u001b[0m                                 Traceback (most recent call last)",
      "Cell \u001b[0;32mIn[4], line 6\u001b[0m\n\u001b[1;32m      3\u001b[0m t\u001b[38;5;241m=\u001b[39m(\u001b[38;5;241m1\u001b[39m,\u001b[38;5;241m2\u001b[39m,\u001b[38;5;241m3\u001b[39m)\n\u001b[1;32m      4\u001b[0m t\u001b[38;5;241m=\u001b[39m[\u001b[38;5;241m1\u001b[39m,\u001b[38;5;241m2\u001b[39m,\u001b[38;5;241m3\u001b[39m]\n\u001b[0;32m----> 6\u001b[0m \u001b[38;5;28mprint\u001b[39m\u001b[38;5;241m=\u001b[39m(t[\u001b[38;5;241m0\u001b[39m], \u001b[43ma\u001b[49m[\u001b[38;5;241m0\u001b[39m])\n\u001b[1;32m      7\u001b[0m a[\u001b[38;5;241m0\u001b[39m]\u001b[38;5;241m=\u001b[39m\u001b[38;5;241m10\u001b[39m\n\u001b[1;32m      8\u001b[0m \u001b[38;5;28mprint\u001b[39m\u001b[38;5;241m=\u001b[39m(t[\u001b[38;5;241m0\u001b[39m], a[\u001b[38;5;241m0\u001b[39m])\n",
      "\u001b[0;31mNameError\u001b[0m: name 'a' is not defined"
     ]
    }
   ],
   "source": [
    "## tuple\n",
    "\n",
    "t=(1,2,3)\n",
    "t=[1,2,3]\n",
    "\n",
    "print=(t[0], a[0])\n",
    "a[0]=10\n",
    "print=(t[0], a[0])\n",
    "t[0]=10"
   ]
  },
  {
   "cell_type": "code",
   "execution_count": 3,
   "id": "ed59fe4d-39ce-424c-a24c-772993da747c",
   "metadata": {},
   "outputs": [
    {
     "name": "stdout",
     "output_type": "stream",
     "text": [
      "{1, 2, 3, 5}\n",
      "{1, 2, 3, 5}\n",
      "{1, 2, 3, 4, 5, 7, 8}\n",
      "{1, 3, 4, 5, 7, 8}\n",
      "{1, 4, 5, 7, 8}\n",
      "set()\n"
     ]
    }
   ],
   "source": [
    "s=set([1,2,3,1,2,1,2,5])\n",
    "print(s)\n",
    "\n",
    "s.add(2)\n",
    "print(s)\n",
    "s.add(4)\n",
    "s.update([1,3,7,8])\n",
    "print(s)\n",
    "s.remove(2)\n",
    "print(s)\n",
    "s.discard(3)\n",
    "print(s)\n",
    "s.clear()\n",
    "print(s)"
   ]
  },
  {
   "cell_type": "code",
   "execution_count": 5,
   "id": "1a59ff97-ed8e-4e2f-9e54-90d3df49d2d3",
   "metadata": {},
   "outputs": [
    {
     "name": "stdout",
     "output_type": "stream",
     "text": [
      "{3, 4, 5}\n",
      "{3, 4, 5}\n",
      "{1, 2, 3, 4, 5, 6, 7}\n",
      "{1, 2, 3, 4, 5, 6, 7}\n",
      "{1, 2}\n",
      "{1, 2}\n"
     ]
    }
   ],
   "source": [
    "s1=set([1,2,3,4,5])\n",
    "s2=set([3,4,5,6,7])\n",
    "print(s1&s2)\n",
    "print(s1.intersection(s2))\n",
    "print(s1|s2)\n",
    "print(s1.union(s2))\n",
    "print(s1-s2)\n",
    "print(s1.difference(s2))"
   ]
  },
  {
   "cell_type": "code",
   "execution_count": 9,
   "id": "57458dba-829f-4e13-a3cb-e70c2913a48a",
   "metadata": {},
   "outputs": [
    {
     "name": "stdout",
     "output_type": "stream",
     "text": [
      "{'America': 1, 'Korea': 82, 'China': 86, 'Japan': 81, 'Germany': 49}\n",
      "dict_keys(['America', 'Korea', 'China', 'Japan', 'Germany'])\n",
      "dict_values([1, 82, 86, 81, 49])\n",
      "dict_items([('America', 1), ('Korea', 82), ('China', 86), ('Japan', 81), ('Germany', 49)])\n"
     ]
    }
   ],
   "source": [
    "country_code={\"America\":1,\"Korea\":82,\"China\":86,\"Japan\":81,\"Germany\":49}\n",
    "print(country_code)\n",
    "print(country_code.keys())\n",
    "print(country_code.values())\n",
    "print(country_code.items())   #굉장히 많이 씀. 공식"
   ]
  },
  {
   "cell_type": "code",
   "execution_count": 11,
   "id": "47cd7065-4c30-4045-b5b3-1175407035bd",
   "metadata": {},
   "outputs": [
    {
     "name": "stdout",
     "output_type": "stream",
     "text": [
      "America 1\n",
      "Korea 82\n",
      "China 86\n",
      "Japan 81\n",
      "Germany 49\n"
     ]
    }
   ],
   "source": [
    "for k,v in country_code.items(): # 무조건 외워야 하는 함수\n",
    "    print(k,v)"
   ]
  },
  {
   "cell_type": "code",
   "execution_count": 14,
   "id": "c466737b-476c-4a1a-b54f-2e25ce6d4e7b",
   "metadata": {},
   "outputs": [
    {
     "name": "stdout",
     "output_type": "stream",
     "text": [
      "1\n",
      "82\n"
     ]
    }
   ],
   "source": [
    "print(country_code[\"America\"])    #매우 중요\n",
    "print(country_code.get(\"Korea\"))  #매우 중요"
   ]
  },
  {
   "cell_type": "code",
   "execution_count": 13,
   "id": "071a98f0-aa50-447e-9578-72dbf2bec450",
   "metadata": {},
   "outputs": [
    {
     "name": "stdin",
     "output_type": "stream",
     "text": [
      "당신의 MBTI 유형을 입력하세요 (예: INFP):  istp\n"
     ]
    },
    {
     "name": "stdout",
     "output_type": "stream",
     "text": [
      "\n",
      "[ISTP] 유형에게 어울리는 직업은 다음과 같습니다:\n",
      "👉 기계 엔지니어, 파일럿, 정비사\n"
     ]
    }
   ],
   "source": [
    "mbti_jobs = {\n",
    "    \"INTJ\": \"전략 컨설턴트, 데이터 과학자, 시스템 설계자\",\n",
    "    \"INTP\": \"연구원, 프로그래머, 이론 물리학자\",\n",
    "    \"ENTJ\": \"경영자, 프로젝트 매니저, 투자 분석가\",\n",
    "    \"ENTP\": \"스타트업 창업가, 마케터, 발명가\",\n",
    "    \"INFJ\": \"심리상담사, 작가, 사회운동가\",\n",
    "    \"INFP\": \"예술가, 작사가, 인권 활동가\",\n",
    "    \"ENFJ\": \"교사, HR 매니저, 커뮤니케이션 디렉터\",\n",
    "    \"ENFP\": \"기획자, 광고 크리에이터, 여행 작가\",\n",
    "    \"ISTJ\": \"회계사, 관리자, 공무원\",\n",
    "    \"ISFJ\": \"간호사, 사회복지사, 사서\",\n",
    "    \"ESTJ\": \"군인, 기업 관리자, 품질 관리자\",\n",
    "    \"ESFJ\": \"교사, 이벤트 플래너, 고객 서비스 매니저\",\n",
    "    \"ISTP\": \"기계 엔지니어, 파일럿, 정비사\",\n",
    "    \"ISFP\": \"패션 디자이너, 사진작가, 플로리스트\",\n",
    "    \"ESTP\": \"영업 전문가, 응급 구조사, 스포츠 코치\",\n",
    "    \"ESFP\": \"연예인, 여행 가이드, 쇼호스트\"\n",
    "}\n",
    "\n",
    "mbti = input(\"당신의 MBTI 유형을 입력하세요 (예: INFP): \").upper()\n",
    "\n",
    "job = mbti_jobs.get(mbti)\n",
    "\n",
    "if job:\n",
    "    print(f\"\\n[{mbti}] 유형에게 어울리는 직업은 다음과 같습니다:\\n👉 {job}\")\n",
    "else:\n",
    "    print(\"죄송해요. 해당 MBTI 유형은 데이터에 없어요. 🥲\")"
   ]
  },
  {
   "cell_type": "code",
   "execution_count": 18,
   "id": "7924cf82-565f-4515-9d74-cee24c02f348",
   "metadata": {},
   "outputs": [
    {
     "name": "stdout",
     "output_type": "stream",
     "text": [
      "redbluegreenpurple\n",
      "red,blue,green,purple\n",
      "redbluegreenpurple\n"
     ]
    }
   ],
   "source": [
    "colors=['red','blue','green','purple']\n",
    "result=''.join(colors)  #join 많이 씀\n",
    "print(result)\n",
    "result2=','.join(colors)\n",
    "print(result2)\n",
    "result3=''.join(colors)\n",
    "print(result3)"
   ]
  },
  {
   "cell_type": "code",
   "execution_count": 35,
   "id": "220bb993-25ec-4acf-a856-f60fb373f81c",
   "metadata": {},
   "outputs": [
    {
     "name": "stdout",
     "output_type": "stream",
     "text": [
      "['Trump', 'administration', 'concedes', 'father', 'from', 'El', 'Salvador', 'was', 'mistakenly', 'deported', 'and', 'sent', 'to', 'mega', 'prison']\n"
     ]
    }
   ],
   "source": [
    "items='Trump administration concedes father from El Salvador was mistakenly deported and sent to mega prison'.split()\n",
    "print(items)"
   ]
  },
  {
   "cell_type": "code",
   "execution_count": 34,
   "id": "959b7183-6972-4d32-912a-56797fd3b843",
   "metadata": {},
   "outputs": [
    {
     "name": "stdout",
     "output_type": "stream",
     "text": [
      "['a', 'b', 'c', 'd']\n",
      "['www', 'naver', 'com']\n",
      "naver\n"
     ]
    }
   ],
   "source": [
    "ex1=\"a,b,c,d\"\n",
    "r1=ex1.split(\",\")\n",
    "print(r1)\n",
    "ex2=\"www.naver.com\"\n",
    "r2=ex2.split(\".\")\n",
    "print(r2)\n",
    "subdomain,domain,tld=r2\n",
    "print(domain)"
   ]
  },
  {
   "cell_type": "code",
   "execution_count": 29,
   "id": "6613771d-385f-4432-bdb2-6b09c1d14e8d",
   "metadata": {},
   "outputs": [
    {
     "name": "stdout",
     "output_type": "stream",
     "text": [
      "[20, 40, 60, 100, 120]\n"
     ]
    }
   ],
   "source": [
    "wages=[10,20,30,50,60]\n",
    "r_wages=[i*2 for i in wages]\n",
    "print(r_wages)"
   ]
  },
  {
   "cell_type": "code",
   "execution_count": 33,
   "id": "8af1c55d-f46e-4075-ae19-8d48592008ba",
   "metadata": {},
   "outputs": [
    {
     "name": "stdout",
     "output_type": "stream",
     "text": [
      "[20, 40, 60, 100, 120]\n"
     ]
    }
   ],
   "source": [
    "wages=[10,20,30,50,60]\n",
    "r_wages=[]\n",
    "for i in wages:\n",
    "    r_wages.append(i*2)\n",
    "print(r_wages)"
   ]
  },
  {
   "cell_type": "code",
   "execution_count": 2,
   "id": "e307f0f2-083d-4ebf-aec3-cdc70f4c09ce",
   "metadata": {},
   "outputs": [
    {
     "name": "stdout",
     "output_type": "stream",
     "text": [
      "git version 2.34.1\n"
     ]
    }
   ],
   "source": [
    "!git --version"
   ]
  },
  {
   "cell_type": "code",
   "execution_count": 3,
   "id": "365e7238-a4fe-4d1d-839e-de71b10b1b9b",
   "metadata": {},
   "outputs": [
    {
     "name": "stdout",
     "output_type": "stream",
     "text": [
      "\u001b[33mhint: Using 'master' as the name for the initial branch. This default branch name\u001b[m\n",
      "\u001b[33mhint: is subject to change. To configure the initial branch name to use in all\u001b[m\n",
      "\u001b[33mhint: of your new repositories, which will suppress this warning, call:\u001b[m\n",
      "\u001b[33mhint: \u001b[m\n",
      "\u001b[33mhint: \tgit config --global init.defaultBranch <name>\u001b[m\n",
      "\u001b[33mhint: \u001b[m\n",
      "\u001b[33mhint: Names commonly chosen instead of 'master' are 'main', 'trunk' and\u001b[m\n",
      "\u001b[33mhint: 'development'. The just-created branch can be renamed via this command:\u001b[m\n",
      "\u001b[33mhint: \u001b[m\n",
      "\u001b[33mhint: \tgit branch -m <name>\u001b[m\n",
      "Initialized empty Git repository in /home/sugook77/.git/\n"
     ]
    }
   ],
   "source": [
    "!git init"
   ]
  },
  {
   "cell_type": "code",
   "execution_count": 4,
   "id": "49cde34f-f723-40f0-95d6-c35de1b28479",
   "metadata": {},
   "outputs": [],
   "source": [
    "!git config --global user.name \"mandusong\""
   ]
  },
  {
   "cell_type": "code",
   "execution_count": 5,
   "id": "ad82e56b-da97-4e09-bd03-83b33c6496e0",
   "metadata": {},
   "outputs": [],
   "source": [
    "!git config --global user.email \"sugook77@naver.com\""
   ]
  },
  {
   "cell_type": "code",
   "execution_count": 6,
   "id": "f6b796c7-2efc-40e8-870f-369ee8ff8eec",
   "metadata": {},
   "outputs": [
    {
     "name": "stdout",
     "output_type": "stream",
     "text": [
      "On branch master\n",
      "\n",
      "No commits yet\n",
      "\n",
      "Untracked files:\n",
      "  (use \"git add <file>...\" to include in what will be committed)\n",
      "\t\u001b[31m.gitconfig\u001b[m\n",
      "\t\u001b[31m.ipynb_checkpoints/\u001b[m\n",
      "\t\u001b[31m.ipython/\u001b[m\n",
      "\t\u001b[31m.jupyter/\u001b[m\n",
      "\t\u001b[31m.local/\u001b[m\n",
      "\t\u001b[31m.npm/\u001b[m\n",
      "\t\u001b[31m.ssh/\u001b[m\n",
      "\t\u001b[31m\"Chap4-\\354\\241\\260\\352\\261\\264\\353\\254\\270\\353\\260\\230\\353\\263\\265\\353\\254\\270.ipynb\"\u001b[m\n",
      "\t\u001b[31m\"PR1_\\354\\235\\264\\355\\230\\234\\354\\247\\204.ipynb\"\u001b[m\n",
      "\t\u001b[31m\"PR2_\\354\\235\\264\\355\\230\\234\\354\\247\\204.ipynb\"\u001b[m\n",
      "\t\u001b[31m\"PR3_\\354\\235\\264\\355\\230\\234\\354\\247\\204.ipynb\"\u001b[m\n",
      "\t\u001b[31m\"PR4_\\354\\235\\264\\355\\230\\234\\354\\247\\204.ipynb\"\u001b[m\n",
      "\t\u001b[31m\"PR5_\\354\\235\\264\\355\\230\\234\\354\\247\\204.ipynb\"\u001b[m\n",
      "\t\u001b[31m\"PR6_\\354\\235\\264\\355\\230\\234\\354\\247\\204.ipynb\"\u001b[m\n",
      "\t\u001b[31mUntitled.ipynb\u001b[m\n",
      "\t\u001b[31mUntitled1.ipynb\u001b[m\n",
      "\t\u001b[31m\"\\353\\270\\224\\353\\243\\250 \\354\\213\\254\\355\\224\\214\\355\\225\\234 \\352\\263\\265\\354\\247\\200\\354\\202\\254\\355\\225\\255 \\355\\217\\254\\354\\212\\244\\355\\204\\260 (3).png\"\u001b[m\n",
      "\t\u001b[31m\"\\354\\212\\244\\355\\201\\254\\353\\246\\260\\354\\203\\267 2025-02-25 161234.png\"\u001b[m\n",
      "\t\u001b[31m\"\\354\\227\\260\\354\\212\\265_\\354\\235\\264\\355\\230\\234\\354\\247\\204.ipynb\"\u001b[m\n",
      "\n",
      "nothing added to commit but untracked files present (use \"git add\" to track)\n"
     ]
    }
   ],
   "source": [
    "!git status"
   ]
  },
  {
   "cell_type": "code",
   "execution_count": 8,
   "id": "9557b614-85ac-4972-9af5-084ae19d5227",
   "metadata": {},
   "outputs": [
    {
     "name": "stdout",
     "output_type": "stream",
     "text": [
      "error: remote origin already exists.\n"
     ]
    }
   ],
   "source": [
    "!git remote add origin \"https://github.com/mandusong/ajou_mba_1.git\""
   ]
  },
  {
   "cell_type": "code",
   "execution_count": 9,
   "id": "2555f39b-0891-46ba-8f62-6254cc1e1a04",
   "metadata": {},
   "outputs": [],
   "source": [
    "!git branch -m master main"
   ]
  },
  {
   "cell_type": "code",
   "execution_count": null,
   "id": "d1e0f5d4-d5aa-408c-b2dd-b082befbd41d",
   "metadata": {},
   "outputs": [],
   "source": [
    "!git pull orijin"
   ]
  }
 ],
 "metadata": {
  "kernelspec": {
   "display_name": "Python 3 (ipykernel)",
   "language": "python",
   "name": "python3"
  },
  "language_info": {
   "codemirror_mode": {
    "name": "ipython",
    "version": 3
   },
   "file_extension": ".py",
   "mimetype": "text/x-python",
   "name": "python",
   "nbconvert_exporter": "python",
   "pygments_lexer": "ipython3",
   "version": "3.11.6"
  }
 },
 "nbformat": 4,
 "nbformat_minor": 5
}
